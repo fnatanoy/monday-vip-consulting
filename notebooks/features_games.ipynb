{
 "cells": [
  {
   "cell_type": "markdown",
   "metadata": {},
   "source": [
    "# Features Games"
   ]
  },
  {
   "cell_type": "code",
   "execution_count": 1,
   "metadata": {},
   "outputs": [
    {
     "data": {
      "text/html": [
       "\n",
       "                <script type=\"application/javascript\" id=\"jupyter_black\">\n",
       "                (function() {\n",
       "                    if (window.IPython === undefined) {\n",
       "                        return\n",
       "                    }\n",
       "                    var msg = \"WARNING: it looks like you might have loaded \" +\n",
       "                        \"jupyter_black in a non-lab notebook with \" +\n",
       "                        \"`is_lab=True`. Please double check, and if \" +\n",
       "                        \"loading with `%load_ext` please review the README!\"\n",
       "                    console.log(msg)\n",
       "                    alert(msg)\n",
       "                })()\n",
       "                </script>\n",
       "                "
      ],
      "text/plain": [
       "<IPython.core.display.HTML object>"
      ]
     },
     "metadata": {},
     "output_type": "display_data"
    }
   ],
   "source": [
    "import os\n",
    "import re\n",
    "\n",
    "project_path = re.findall(\n",
    "    pattern=r\".+monday-vip-consulting\",\n",
    "    string=os.path.abspath(os.getcwd()),\n",
    ")[0]\n",
    "os.chdir(os.path.join(project_path))\n",
    "%load_ext jupyter_black"
   ]
  },
  {
   "cell_type": "code",
   "execution_count": 2,
   "metadata": {},
   "outputs": [],
   "source": [
    "import pandas as pd\n",
    "import plotly.graph_objects as go\n",
    "import plotly.express as px\n",
    "\n",
    "\n",
    "from src.utils.pather import Pather\n",
    "from src.data.make_features_dataset import FeaturesDataset\n",
    "\n",
    "pather = Pather()"
   ]
  },
  {
   "cell_type": "markdown",
   "metadata": {},
   "source": [
    "### Accounts Features"
   ]
  },
  {
   "cell_type": "code",
   "execution_count": null,
   "metadata": {},
   "outputs": [],
   "source": [
    "accounts = pd.read_csv(pather.interim_accounts)\n",
    "accounts.shape"
   ]
  },
  {
   "cell_type": "code",
   "execution_count": null,
   "metadata": {},
   "outputs": [],
   "source": [
    "accounts.head(10)"
   ]
  },
  {
   "cell_type": "code",
   "execution_count": null,
   "metadata": {},
   "outputs": [],
   "source": [
    "accounts.nunique()"
   ]
  },
  {
   "cell_type": "code",
   "execution_count": null,
   "metadata": {},
   "outputs": [],
   "source": [
    "features = [\n",
    "    \"account_id\",\n",
    "    \"paying\",\n",
    "    \"collection_21_days\",\n",
    "    \"max_team_size\",\n",
    "    \"min_team_size\",\n",
    "    \"industry\",\n",
    "    \"payment_currency\",\n",
    "    \"lead_score\",\n",
    "]\n",
    "account_features = (\n",
    "    accounts[features]\n",
    "    .copy()\n",
    "    .set_index(\"account_id\")\n",
    "    .astype(\n",
    "        {\n",
    "            \"industry\": \"category\",\n",
    "            \"payment_currency\": \"category\",\n",
    "            # \"region\": \"category\",\n",
    "            # \"country\": \"category\",\n",
    "        }\n",
    "    )\n",
    ")"
   ]
  },
  {
   "cell_type": "code",
   "execution_count": null,
   "metadata": {},
   "outputs": [],
   "source": [
    "account_features"
   ]
  },
  {
   "cell_type": "markdown",
   "metadata": {},
   "source": [
    "## Users Features"
   ]
  },
  {
   "cell_type": "code",
   "execution_count": null,
   "metadata": {},
   "outputs": [],
   "source": [
    "users = pd.read_csv(pather.interim_users)\n",
    "users.shape"
   ]
  },
  {
   "cell_type": "code",
   "execution_count": null,
   "metadata": {},
   "outputs": [],
   "source": [
    "users_features = (\n",
    "    users.groupby(\"account_id\")\n",
    "    .agg(\n",
    "        {\n",
    "            \"user_id\": \"nunique\",\n",
    "            \"is_admin\": \"sum\",\n",
    "            \"pending\": \"sum\",\n",
    "            \"enabled\": \"sum\",\n",
    "        }\n",
    "    )\n",
    "    .rename(\n",
    "        columns={\n",
    "            \"user_id\": \"registered_users\",\n",
    "            \"is_admin\": \"number_of_admins\",\n",
    "            \"pending\": \"number_of_pending_users\",\n",
    "            \"enabled\": \"number_of_enabled_users\",\n",
    "        }\n",
    "    )\n",
    "    # .sort_values(\"registered_users\", ascending=False)\n",
    ")\n",
    "users_features"
   ]
  },
  {
   "cell_type": "code",
   "execution_count": null,
   "metadata": {},
   "outputs": [],
   "source": [
    "users.nunique()"
   ]
  },
  {
   "cell_type": "code",
   "execution_count": null,
   "metadata": {},
   "outputs": [],
   "source": [
    "users[users[\"account_id\"] == 602168]"
   ]
  },
  {
   "cell_type": "markdown",
   "metadata": {},
   "source": [
    "# All Features"
   ]
  },
  {
   "cell_type": "code",
   "execution_count": 3,
   "metadata": {},
   "outputs": [
    {
     "name": "stdout",
     "output_type": "stream",
     "text": [
      "Loading Data...\n"
     ]
    }
   ],
   "source": [
    "features_dataseter = FeaturesDataset()\n",
    "accounts_features = features_dataseter._create_accounts_features()\n",
    "events_features = features_dataseter._create_events_features()\n",
    "users_features = features_dataseter._create_users_features()"
   ]
  },
  {
   "cell_type": "code",
   "execution_count": null,
   "metadata": {},
   "outputs": [],
   "source": [
    "accounts_ids_not_in_users = accounts_features[\n",
    "    ~accounts_features.index.isin(users_features.index)\n",
    "]"
   ]
  },
  {
   "cell_type": "code",
   "execution_count": null,
   "metadata": {},
   "outputs": [],
   "source": [
    "# events_features_features_1 = events_features.drop(accounts_ids_not_in_users)"
   ]
  },
  {
   "cell_type": "code",
   "execution_count": 4,
   "metadata": {},
   "outputs": [
    {
     "name": "stdout",
     "output_type": "stream",
     "text": [
      "account shape: (716828, 8)\n",
      "events shape: (716628, 22)\n",
      "users shape: (716099, 4)\n"
     ]
    }
   ],
   "source": [
    "print(f\"account shape: {accounts_features.shape}\")\n",
    "print(f\"events shape: {events_features.shape}\")\n",
    "print(f\"users shape: {users_features.shape}\")"
   ]
  },
  {
   "cell_type": "code",
   "execution_count": null,
   "metadata": {},
   "outputs": [],
   "source": [
    "accounts_ids_not_in_users = accounts_features[\n",
    "    ~accounts_features.index.isin(users_features.index)\n",
    "]\n",
    "accounts_ids_not_in_events = accounts_features[\n",
    "    ~accounts_features.index.isin(events_features.index)\n",
    "]"
   ]
  },
  {
   "cell_type": "code",
   "execution_count": null,
   "metadata": {},
   "outputs": [],
   "source": [
    "in_users_not_in_accounts = users_features[\n",
    "    ~users_features.index.isin(account_features.index)\n",
    "]\n",
    "in_events_not_in_accounts = events_features[\n",
    "    ~events_features.index.isin(account_features.index)\n",
    "]"
   ]
  },
  {
   "cell_type": "code",
   "execution_count": null,
   "metadata": {},
   "outputs": [],
   "source": [
    "in_events_not_in_accounts"
   ]
  },
  {
   "cell_type": "code",
   "execution_count": 28,
   "metadata": {},
   "outputs": [],
   "source": [
    "features = accounts_features.merge(\n",
    "    users_features,\n",
    "    left_index=True,\n",
    "    right_index=True,\n",
    "    how=\"outer\",\n",
    ").merge(\n",
    "    events_features,\n",
    "    left_index=True,\n",
    "    right_index=True,\n",
    "    how=\"outer\",\n",
    ")\n",
    "target = features.pop(\"lead_score\")"
   ]
  },
  {
   "cell_type": "code",
   "execution_count": 6,
   "metadata": {},
   "outputs": [
    {
     "data": {
      "text/html": [
       "<div>\n",
       "<style scoped>\n",
       "    .dataframe tbody tr th:only-of-type {\n",
       "        vertical-align: middle;\n",
       "    }\n",
       "\n",
       "    .dataframe tbody tr th {\n",
       "        vertical-align: top;\n",
       "    }\n",
       "\n",
       "    .dataframe thead th {\n",
       "        text-align: right;\n",
       "    }\n",
       "</style>\n",
       "<table border=\"1\" class=\"dataframe\">\n",
       "  <thead>\n",
       "    <tr style=\"text-align: right;\">\n",
       "      <th></th>\n",
       "      <th>paying</th>\n",
       "      <th>collection_21_days</th>\n",
       "      <th>max_team_size</th>\n",
       "      <th>min_team_size</th>\n",
       "      <th>team_size</th>\n",
       "      <th>industry</th>\n",
       "      <th>payment_currency</th>\n",
       "      <th>registered_users</th>\n",
       "      <th>number_of_admins</th>\n",
       "      <th>number_of_pending_users</th>\n",
       "      <th>...</th>\n",
       "      <th>new_entry_events</th>\n",
       "      <th>payment_events</th>\n",
       "      <th>inbox_events</th>\n",
       "      <th>communicating_events</th>\n",
       "      <th>non_communicating_events</th>\n",
       "      <th>web_events</th>\n",
       "      <th>ios_events</th>\n",
       "      <th>android_events</th>\n",
       "      <th>desktop_app_events</th>\n",
       "      <th>empty_events</th>\n",
       "    </tr>\n",
       "    <tr>\n",
       "      <th>account_id</th>\n",
       "      <th></th>\n",
       "      <th></th>\n",
       "      <th></th>\n",
       "      <th></th>\n",
       "      <th></th>\n",
       "      <th></th>\n",
       "      <th></th>\n",
       "      <th></th>\n",
       "      <th></th>\n",
       "      <th></th>\n",
       "      <th></th>\n",
       "      <th></th>\n",
       "      <th></th>\n",
       "      <th></th>\n",
       "      <th></th>\n",
       "      <th></th>\n",
       "      <th></th>\n",
       "      <th></th>\n",
       "      <th></th>\n",
       "      <th></th>\n",
       "      <th></th>\n",
       "    </tr>\n",
       "  </thead>\n",
       "  <tbody>\n",
       "    <tr>\n",
       "      <th>4</th>\n",
       "      <td>0</td>\n",
       "      <td>0</td>\n",
       "      <td>NaN</td>\n",
       "      <td>NaN</td>\n",
       "      <td>NaN</td>\n",
       "      <td>NaN</td>\n",
       "      <td>USD</td>\n",
       "      <td>1.0</td>\n",
       "      <td>1.0</td>\n",
       "      <td>0.0</td>\n",
       "      <td>...</td>\n",
       "      <td>2.0</td>\n",
       "      <td>0.0</td>\n",
       "      <td>0.0</td>\n",
       "      <td>0.0</td>\n",
       "      <td>2.0</td>\n",
       "      <td>0.0</td>\n",
       "      <td>0.0</td>\n",
       "      <td>42.0</td>\n",
       "      <td>0.0</td>\n",
       "      <td>7.0</td>\n",
       "    </tr>\n",
       "    <tr>\n",
       "      <th>6</th>\n",
       "      <td>0</td>\n",
       "      <td>0</td>\n",
       "      <td>5.0</td>\n",
       "      <td>2.0</td>\n",
       "      <td>2-5</td>\n",
       "      <td>Finance</td>\n",
       "      <td>USD</td>\n",
       "      <td>1.0</td>\n",
       "      <td>1.0</td>\n",
       "      <td>0.0</td>\n",
       "      <td>...</td>\n",
       "      <td>1.0</td>\n",
       "      <td>0.0</td>\n",
       "      <td>1.0</td>\n",
       "      <td>1.0</td>\n",
       "      <td>2.0</td>\n",
       "      <td>56.0</td>\n",
       "      <td>0.0</td>\n",
       "      <td>0.0</td>\n",
       "      <td>0.0</td>\n",
       "      <td>7.0</td>\n",
       "    </tr>\n",
       "    <tr>\n",
       "      <th>7</th>\n",
       "      <td>0</td>\n",
       "      <td>0</td>\n",
       "      <td>1.0</td>\n",
       "      <td>1.0</td>\n",
       "      <td>1-1</td>\n",
       "      <td>Business Owner</td>\n",
       "      <td>USD</td>\n",
       "      <td>1.0</td>\n",
       "      <td>1.0</td>\n",
       "      <td>0.0</td>\n",
       "      <td>...</td>\n",
       "      <td>1.0</td>\n",
       "      <td>0.0</td>\n",
       "      <td>1.0</td>\n",
       "      <td>1.0</td>\n",
       "      <td>75.0</td>\n",
       "      <td>292.0</td>\n",
       "      <td>0.0</td>\n",
       "      <td>0.0</td>\n",
       "      <td>0.0</td>\n",
       "      <td>17.0</td>\n",
       "    </tr>\n",
       "    <tr>\n",
       "      <th>8</th>\n",
       "      <td>0</td>\n",
       "      <td>0</td>\n",
       "      <td>NaN</td>\n",
       "      <td>NaN</td>\n",
       "      <td>NaN</td>\n",
       "      <td>NaN</td>\n",
       "      <td>USD</td>\n",
       "      <td>1.0</td>\n",
       "      <td>1.0</td>\n",
       "      <td>0.0</td>\n",
       "      <td>...</td>\n",
       "      <td>1.0</td>\n",
       "      <td>0.0</td>\n",
       "      <td>0.0</td>\n",
       "      <td>1.0</td>\n",
       "      <td>1.0</td>\n",
       "      <td>0.0</td>\n",
       "      <td>0.0</td>\n",
       "      <td>19.0</td>\n",
       "      <td>0.0</td>\n",
       "      <td>3.0</td>\n",
       "    </tr>\n",
       "    <tr>\n",
       "      <th>9</th>\n",
       "      <td>0</td>\n",
       "      <td>0</td>\n",
       "      <td>0.0</td>\n",
       "      <td>0.0</td>\n",
       "      <td>NaN</td>\n",
       "      <td>NaN</td>\n",
       "      <td>USD</td>\n",
       "      <td>1.0</td>\n",
       "      <td>1.0</td>\n",
       "      <td>0.0</td>\n",
       "      <td>...</td>\n",
       "      <td>3.0</td>\n",
       "      <td>0.0</td>\n",
       "      <td>3.0</td>\n",
       "      <td>1.0</td>\n",
       "      <td>6.0</td>\n",
       "      <td>155.0</td>\n",
       "      <td>92.0</td>\n",
       "      <td>0.0</td>\n",
       "      <td>0.0</td>\n",
       "      <td>21.0</td>\n",
       "    </tr>\n",
       "  </tbody>\n",
       "</table>\n",
       "<p>5 rows × 33 columns</p>\n",
       "</div>"
      ],
      "text/plain": [
       "            paying  collection_21_days  max_team_size  min_team_size  \\\n",
       "account_id                                                             \n",
       "4                0                   0            NaN            NaN   \n",
       "6                0                   0            5.0            2.0   \n",
       "7                0                   0            1.0            1.0   \n",
       "8                0                   0            NaN            NaN   \n",
       "9                0                   0            0.0            0.0   \n",
       "\n",
       "           team_size        industry payment_currency  registered_users  \\\n",
       "account_id                                                                \n",
       "4                NaN             NaN              USD               1.0   \n",
       "6                2-5         Finance              USD               1.0   \n",
       "7                1-1  Business Owner              USD               1.0   \n",
       "8                NaN             NaN              USD               1.0   \n",
       "9                NaN             NaN              USD               1.0   \n",
       "\n",
       "            number_of_admins  number_of_pending_users  ...  new_entry_events  \\\n",
       "account_id                                             ...                     \n",
       "4                        1.0                      0.0  ...               2.0   \n",
       "6                        1.0                      0.0  ...               1.0   \n",
       "7                        1.0                      0.0  ...               1.0   \n",
       "8                        1.0                      0.0  ...               1.0   \n",
       "9                        1.0                      0.0  ...               3.0   \n",
       "\n",
       "            payment_events  inbox_events  communicating_events  \\\n",
       "account_id                                                       \n",
       "4                      0.0           0.0                   0.0   \n",
       "6                      0.0           1.0                   1.0   \n",
       "7                      0.0           1.0                   1.0   \n",
       "8                      0.0           0.0                   1.0   \n",
       "9                      0.0           3.0                   1.0   \n",
       "\n",
       "            non_communicating_events  web_events  ios_events  android_events  \\\n",
       "account_id                                                                     \n",
       "4                                2.0         0.0         0.0            42.0   \n",
       "6                                2.0        56.0         0.0             0.0   \n",
       "7                               75.0       292.0         0.0             0.0   \n",
       "8                                1.0         0.0         0.0            19.0   \n",
       "9                                6.0       155.0        92.0             0.0   \n",
       "\n",
       "            desktop_app_events  empty_events  \n",
       "account_id                                    \n",
       "4                          0.0           7.0  \n",
       "6                          0.0           7.0  \n",
       "7                          0.0          17.0  \n",
       "8                          0.0           3.0  \n",
       "9                          0.0          21.0  \n",
       "\n",
       "[5 rows x 33 columns]"
      ]
     },
     "execution_count": 6,
     "metadata": {},
     "output_type": "execute_result"
    }
   ],
   "source": [
    "features.head()"
   ]
  },
  {
   "cell_type": "code",
   "execution_count": null,
   "metadata": {},
   "outputs": [],
   "source": [
    "features\n",
    "duplicate_mask = features.duplicated()\n",
    "# Select duplicate rows based on the mask\n",
    "duplicate_rows = features[duplicate_mask]\n",
    "duplicate_rows"
   ]
  },
  {
   "cell_type": "code",
   "execution_count": null,
   "metadata": {},
   "outputs": [],
   "source": [
    "features[\"industry\"].value_counts().sort_values(ascending=False)\n",
    "features[\"payment_currency\"].value_counts().sort_values(ascending=False)"
   ]
  },
  {
   "cell_type": "code",
   "execution_count": null,
   "metadata": {},
   "outputs": [],
   "source": [
    "from sklearn.preprocessing import OneHotEncoder\n",
    "from sklearn.compose import ColumnTransformer"
   ]
  },
  {
   "cell_type": "code",
   "execution_count": null,
   "metadata": {},
   "outputs": [],
   "source": [
    "categorical_cols = [\"payment_currency\", \"industry\"]\n",
    "one_hot_encoder = OneHotEncoder(sparse=False, drop=\"first\")\n",
    "preprocessor = ColumnTransformer(\n",
    "    transformers=[(\"cat\", one_hot_encoder, categorical_cols)], remainder=\"passthrough\"\n",
    ")\n",
    "X_encoded = preprocessor.fit_transform(features)"
   ]
  },
  {
   "cell_type": "code",
   "execution_count": null,
   "metadata": {},
   "outputs": [],
   "source": [
    "X_encoded"
   ]
  },
  {
   "cell_type": "markdown",
   "metadata": {},
   "source": [
    "Nans"
   ]
  },
  {
   "cell_type": "code",
   "execution_count": 53,
   "metadata": {},
   "outputs": [
    {
     "ename": "TypeError",
     "evalue": "Cannot setitem on a Categorical with a new category (nan), set the categories first",
     "output_type": "error",
     "traceback": [
      "\u001b[0;31m---------------------------------------------------------------------------\u001b[0m",
      "\u001b[0;31mTypeError\u001b[0m                                 Traceback (most recent call last)",
      "\u001b[1;32m/Users/yonatanf/Documents/scripts/monday-vip-consulting/notebooks/features_games.ipynb Cell 31\u001b[0m line \u001b[0;36m1\n\u001b[1;32m     <a href='vscode-notebook-cell:/Users/yonatanf/Documents/scripts/monday-vip-consulting/notebooks/features_games.ipynb#X60sZmlsZQ%3D%3D?line=9'>10</a>\u001b[0m features[\u001b[39m\"\u001b[39m\u001b[39mmax_team_size\u001b[39m\u001b[39m\"\u001b[39m]\u001b[39m.\u001b[39mfillna(features[\u001b[39m\"\u001b[39m\u001b[39mmax_team_size\u001b[39m\u001b[39m\"\u001b[39m]\u001b[39m.\u001b[39mmean(), inplace\u001b[39m=\u001b[39m\u001b[39mTrue\u001b[39;00m)\n\u001b[1;32m     <a href='vscode-notebook-cell:/Users/yonatanf/Documents/scripts/monday-vip-consulting/notebooks/features_games.ipynb#X60sZmlsZQ%3D%3D?line=10'>11</a>\u001b[0m features[\u001b[39m\"\u001b[39m\u001b[39mmin_team_size\u001b[39m\u001b[39m\"\u001b[39m]\u001b[39m.\u001b[39mfillna(features[\u001b[39m\"\u001b[39m\u001b[39mmin_team_size\u001b[39m\u001b[39m\"\u001b[39m]\u001b[39m.\u001b[39mmean(), inplace\u001b[39m=\u001b[39m\u001b[39mTrue\u001b[39;00m)\n\u001b[0;32m---> <a href='vscode-notebook-cell:/Users/yonatanf/Documents/scripts/monday-vip-consulting/notebooks/features_games.ipynb#X60sZmlsZQ%3D%3D?line=11'>12</a>\u001b[0m features[\u001b[39m\"\u001b[39;49m\u001b[39mindustry\u001b[39;49m\u001b[39m\"\u001b[39;49m]\u001b[39m.\u001b[39;49mfillna(\u001b[39m\"\u001b[39;49m\u001b[39mnan\u001b[39;49m\u001b[39m\"\u001b[39;49m, inplace\u001b[39m=\u001b[39;49m\u001b[39mTrue\u001b[39;49;00m)\n\u001b[1;32m     <a href='vscode-notebook-cell:/Users/yonatanf/Documents/scripts/monday-vip-consulting/notebooks/features_games.ipynb#X60sZmlsZQ%3D%3D?line=12'>13</a>\u001b[0m features[\u001b[39m\"\u001b[39m\u001b[39mpayment_currency\u001b[39m\u001b[39m\"\u001b[39m]\u001b[39m.\u001b[39mfillna(\u001b[39m\"\u001b[39m\u001b[39mnan\u001b[39m\u001b[39m\"\u001b[39m, inplace\u001b[39m=\u001b[39m\u001b[39mTrue\u001b[39;00m)\n",
      "File \u001b[0;32m~/Documents/scripts/monday-vip-consulting/venv/lib/python3.9/site-packages/pandas/core/series.py:5145\u001b[0m, in \u001b[0;36mSeries.fillna\u001b[0;34m(self, value, method, axis, inplace, limit, downcast)\u001b[0m\n\u001b[1;32m   5134\u001b[0m \u001b[39m@doc\u001b[39m(NDFrame\u001b[39m.\u001b[39mfillna, \u001b[39m*\u001b[39m\u001b[39m*\u001b[39m_shared_doc_kwargs)\n\u001b[1;32m   5135\u001b[0m \u001b[39mdef\u001b[39;00m \u001b[39mfillna\u001b[39m(\n\u001b[1;32m   5136\u001b[0m     \u001b[39mself\u001b[39m,\n\u001b[0;32m   (...)\u001b[0m\n\u001b[1;32m   5143\u001b[0m     downcast: \u001b[39mdict\u001b[39m \u001b[39m|\u001b[39m \u001b[39mNone\u001b[39;00m \u001b[39m=\u001b[39m \u001b[39mNone\u001b[39;00m,\n\u001b[1;32m   5144\u001b[0m ) \u001b[39m-\u001b[39m\u001b[39m>\u001b[39m Series \u001b[39m|\u001b[39m \u001b[39mNone\u001b[39;00m:\n\u001b[0;32m-> 5145\u001b[0m     \u001b[39mreturn\u001b[39;00m \u001b[39msuper\u001b[39;49m()\u001b[39m.\u001b[39;49mfillna(\n\u001b[1;32m   5146\u001b[0m         value\u001b[39m=\u001b[39;49mvalue,\n\u001b[1;32m   5147\u001b[0m         method\u001b[39m=\u001b[39;49mmethod,\n\u001b[1;32m   5148\u001b[0m         axis\u001b[39m=\u001b[39;49maxis,\n\u001b[1;32m   5149\u001b[0m         inplace\u001b[39m=\u001b[39;49minplace,\n\u001b[1;32m   5150\u001b[0m         limit\u001b[39m=\u001b[39;49mlimit,\n\u001b[1;32m   5151\u001b[0m         downcast\u001b[39m=\u001b[39;49mdowncast,\n\u001b[1;32m   5152\u001b[0m     )\n",
      "File \u001b[0;32m~/Documents/scripts/monday-vip-consulting/venv/lib/python3.9/site-packages/pandas/core/generic.py:6904\u001b[0m, in \u001b[0;36mNDFrame.fillna\u001b[0;34m(self, value, method, axis, inplace, limit, downcast)\u001b[0m\n\u001b[1;32m   6897\u001b[0m     \u001b[39melse\u001b[39;00m:\n\u001b[1;32m   6898\u001b[0m         \u001b[39mraise\u001b[39;00m \u001b[39mTypeError\u001b[39;00m(\n\u001b[1;32m   6899\u001b[0m             \u001b[39m'\u001b[39m\u001b[39m\"\u001b[39m\u001b[39mvalue\u001b[39m\u001b[39m\"\u001b[39m\u001b[39m parameter must be a scalar, dict \u001b[39m\u001b[39m'\u001b[39m\n\u001b[1;32m   6900\u001b[0m             \u001b[39m\"\u001b[39m\u001b[39mor Series, but you passed a \u001b[39m\u001b[39m\"\u001b[39m\n\u001b[1;32m   6901\u001b[0m             \u001b[39mf\u001b[39m\u001b[39m'\u001b[39m\u001b[39m\"\u001b[39m\u001b[39m{\u001b[39;00m\u001b[39mtype\u001b[39m(value)\u001b[39m.\u001b[39m\u001b[39m__name__\u001b[39m\u001b[39m}\u001b[39;00m\u001b[39m\"\u001b[39m\u001b[39m'\u001b[39m\n\u001b[1;32m   6902\u001b[0m         )\n\u001b[0;32m-> 6904\u001b[0m     new_data \u001b[39m=\u001b[39m \u001b[39mself\u001b[39;49m\u001b[39m.\u001b[39;49m_mgr\u001b[39m.\u001b[39;49mfillna(\n\u001b[1;32m   6905\u001b[0m         value\u001b[39m=\u001b[39;49mvalue, limit\u001b[39m=\u001b[39;49mlimit, inplace\u001b[39m=\u001b[39;49minplace, downcast\u001b[39m=\u001b[39;49mdowncast\n\u001b[1;32m   6906\u001b[0m     )\n\u001b[1;32m   6908\u001b[0m \u001b[39melif\u001b[39;00m \u001b[39misinstance\u001b[39m(value, (\u001b[39mdict\u001b[39m, ABCSeries)):\n\u001b[1;32m   6909\u001b[0m     \u001b[39mif\u001b[39;00m axis \u001b[39m==\u001b[39m \u001b[39m1\u001b[39m:\n",
      "File \u001b[0;32m~/Documents/scripts/monday-vip-consulting/venv/lib/python3.9/site-packages/pandas/core/internals/managers.py:433\u001b[0m, in \u001b[0;36mBaseBlockManager.fillna\u001b[0;34m(self, value, limit, inplace, downcast)\u001b[0m\n\u001b[1;32m    429\u001b[0m \u001b[39mif\u001b[39;00m limit \u001b[39mis\u001b[39;00m \u001b[39mnot\u001b[39;00m \u001b[39mNone\u001b[39;00m:\n\u001b[1;32m    430\u001b[0m     \u001b[39m# Do this validation even if we go through one of the no-op paths\u001b[39;00m\n\u001b[1;32m    431\u001b[0m     limit \u001b[39m=\u001b[39m libalgos\u001b[39m.\u001b[39mvalidate_limit(\u001b[39mNone\u001b[39;00m, limit\u001b[39m=\u001b[39mlimit)\n\u001b[0;32m--> 433\u001b[0m \u001b[39mreturn\u001b[39;00m \u001b[39mself\u001b[39;49m\u001b[39m.\u001b[39;49mapply(\n\u001b[1;32m    434\u001b[0m     \u001b[39m\"\u001b[39;49m\u001b[39mfillna\u001b[39;49m\u001b[39m\"\u001b[39;49m,\n\u001b[1;32m    435\u001b[0m     value\u001b[39m=\u001b[39;49mvalue,\n\u001b[1;32m    436\u001b[0m     limit\u001b[39m=\u001b[39;49mlimit,\n\u001b[1;32m    437\u001b[0m     inplace\u001b[39m=\u001b[39;49minplace,\n\u001b[1;32m    438\u001b[0m     downcast\u001b[39m=\u001b[39;49mdowncast,\n\u001b[1;32m    439\u001b[0m     using_cow\u001b[39m=\u001b[39;49musing_copy_on_write(),\n\u001b[1;32m    440\u001b[0m )\n",
      "File \u001b[0;32m~/Documents/scripts/monday-vip-consulting/venv/lib/python3.9/site-packages/pandas/core/internals/managers.py:352\u001b[0m, in \u001b[0;36mBaseBlockManager.apply\u001b[0;34m(self, f, align_keys, **kwargs)\u001b[0m\n\u001b[1;32m    350\u001b[0m         applied \u001b[39m=\u001b[39m b\u001b[39m.\u001b[39mapply(f, \u001b[39m*\u001b[39m\u001b[39m*\u001b[39mkwargs)\n\u001b[1;32m    351\u001b[0m     \u001b[39melse\u001b[39;00m:\n\u001b[0;32m--> 352\u001b[0m         applied \u001b[39m=\u001b[39m \u001b[39mgetattr\u001b[39;49m(b, f)(\u001b[39m*\u001b[39;49m\u001b[39m*\u001b[39;49mkwargs)\n\u001b[1;32m    353\u001b[0m     result_blocks \u001b[39m=\u001b[39m extend_blocks(applied, result_blocks)\n\u001b[1;32m    355\u001b[0m out \u001b[39m=\u001b[39m \u001b[39mtype\u001b[39m(\u001b[39mself\u001b[39m)\u001b[39m.\u001b[39mfrom_blocks(result_blocks, \u001b[39mself\u001b[39m\u001b[39m.\u001b[39maxes)\n",
      "File \u001b[0;32m~/Documents/scripts/monday-vip-consulting/venv/lib/python3.9/site-packages/pandas/core/internals/blocks.py:1868\u001b[0m, in \u001b[0;36mExtensionBlock.fillna\u001b[0;34m(self, value, limit, inplace, downcast, using_cow)\u001b[0m\n\u001b[1;32m   1866\u001b[0m \u001b[39melse\u001b[39;00m:\n\u001b[1;32m   1867\u001b[0m     refs \u001b[39m=\u001b[39m \u001b[39mNone\u001b[39;00m\n\u001b[0;32m-> 1868\u001b[0m     new_values \u001b[39m=\u001b[39m \u001b[39mself\u001b[39;49m\u001b[39m.\u001b[39;49mvalues\u001b[39m.\u001b[39;49mfillna(value\u001b[39m=\u001b[39;49mvalue, method\u001b[39m=\u001b[39;49m\u001b[39mNone\u001b[39;49;00m, limit\u001b[39m=\u001b[39;49mlimit)\n\u001b[1;32m   1869\u001b[0m nb \u001b[39m=\u001b[39m \u001b[39mself\u001b[39m\u001b[39m.\u001b[39mmake_block_same_class(new_values, refs\u001b[39m=\u001b[39mrefs)\n\u001b[1;32m   1870\u001b[0m \u001b[39mreturn\u001b[39;00m nb\u001b[39m.\u001b[39m_maybe_downcast([nb], downcast, using_cow\u001b[39m=\u001b[39musing_cow)\n",
      "File \u001b[0;32m~/Documents/scripts/monday-vip-consulting/venv/lib/python3.9/site-packages/pandas/core/arrays/_mixins.py:324\u001b[0m, in \u001b[0;36mNDArrayBackedExtensionArray.fillna\u001b[0;34m(self, value, method, limit)\u001b[0m\n\u001b[1;32m    321\u001b[0m     \u001b[39melse\u001b[39;00m:\n\u001b[1;32m    322\u001b[0m         \u001b[39m# fill with value\u001b[39;00m\n\u001b[1;32m    323\u001b[0m         new_values \u001b[39m=\u001b[39m \u001b[39mself\u001b[39m\u001b[39m.\u001b[39mcopy()\n\u001b[0;32m--> 324\u001b[0m         new_values[mask] \u001b[39m=\u001b[39m value\n\u001b[1;32m    325\u001b[0m \u001b[39melse\u001b[39;00m:\n\u001b[1;32m    326\u001b[0m     \u001b[39m# We validate the fill_value even if there is nothing to fill\u001b[39;00m\n\u001b[1;32m    327\u001b[0m     \u001b[39mif\u001b[39;00m value \u001b[39mis\u001b[39;00m \u001b[39mnot\u001b[39;00m \u001b[39mNone\u001b[39;00m:\n",
      "File \u001b[0;32m~/Documents/scripts/monday-vip-consulting/venv/lib/python3.9/site-packages/pandas/core/arrays/_mixins.py:249\u001b[0m, in \u001b[0;36mNDArrayBackedExtensionArray.__setitem__\u001b[0;34m(self, key, value)\u001b[0m\n\u001b[1;32m    247\u001b[0m \u001b[39mdef\u001b[39;00m \u001b[39m__setitem__\u001b[39m(\u001b[39mself\u001b[39m, key, value) \u001b[39m-\u001b[39m\u001b[39m>\u001b[39m \u001b[39mNone\u001b[39;00m:\n\u001b[1;32m    248\u001b[0m     key \u001b[39m=\u001b[39m check_array_indexer(\u001b[39mself\u001b[39m, key)\n\u001b[0;32m--> 249\u001b[0m     value \u001b[39m=\u001b[39m \u001b[39mself\u001b[39;49m\u001b[39m.\u001b[39;49m_validate_setitem_value(value)\n\u001b[1;32m    250\u001b[0m     \u001b[39mself\u001b[39m\u001b[39m.\u001b[39m_ndarray[key] \u001b[39m=\u001b[39m value\n",
      "File \u001b[0;32m~/Documents/scripts/monday-vip-consulting/venv/lib/python3.9/site-packages/pandas/core/arrays/categorical.py:1297\u001b[0m, in \u001b[0;36mCategorical._validate_setitem_value\u001b[0;34m(self, value)\u001b[0m\n\u001b[1;32m   1295\u001b[0m     \u001b[39mreturn\u001b[39;00m \u001b[39mself\u001b[39m\u001b[39m.\u001b[39m_validate_listlike(value)\n\u001b[1;32m   1296\u001b[0m \u001b[39melse\u001b[39;00m:\n\u001b[0;32m-> 1297\u001b[0m     \u001b[39mreturn\u001b[39;00m \u001b[39mself\u001b[39;49m\u001b[39m.\u001b[39;49m_validate_scalar(value)\n",
      "File \u001b[0;32m~/Documents/scripts/monday-vip-consulting/venv/lib/python3.9/site-packages/pandas/core/arrays/categorical.py:1322\u001b[0m, in \u001b[0;36mCategorical._validate_scalar\u001b[0;34m(self, fill_value)\u001b[0m\n\u001b[1;32m   1320\u001b[0m     fill_value \u001b[39m=\u001b[39m \u001b[39mself\u001b[39m\u001b[39m.\u001b[39m_unbox_scalar(fill_value)\n\u001b[1;32m   1321\u001b[0m \u001b[39melse\u001b[39;00m:\n\u001b[0;32m-> 1322\u001b[0m     \u001b[39mraise\u001b[39;00m \u001b[39mTypeError\u001b[39;00m(\n\u001b[1;32m   1323\u001b[0m         \u001b[39m\"\u001b[39m\u001b[39mCannot setitem on a Categorical with a new \u001b[39m\u001b[39m\"\u001b[39m\n\u001b[1;32m   1324\u001b[0m         \u001b[39mf\u001b[39m\u001b[39m\"\u001b[39m\u001b[39mcategory (\u001b[39m\u001b[39m{\u001b[39;00mfill_value\u001b[39m}\u001b[39;00m\u001b[39m), set the categories first\u001b[39m\u001b[39m\"\u001b[39m\n\u001b[1;32m   1325\u001b[0m     ) \u001b[39mfrom\u001b[39;00m \u001b[39mNone\u001b[39;00m\n\u001b[1;32m   1326\u001b[0m \u001b[39mreturn\u001b[39;00m fill_value\n",
      "\u001b[0;31mTypeError\u001b[0m: Cannot setitem on a Categorical with a new category (nan), set the categories first"
     ]
    }
   ],
   "source": [
    "one_person_mask = (\n",
    "    (features[\"team_size\"] == \"Solo yo\")\n",
    "    | (features[\"team_size\"] == \"Moi uniquement\")\n",
    "    | (features[\"team_size\"] == \"Apenas eu\")\n",
    "    | (features[\"team_size\"] == \"Nur ich\")\n",
    ")\n",
    "features.loc[one_person_mask, \"max_team_size\"] = 1\n",
    "features.loc[one_person_mask, \"min_team_size\"] = 1\n",
    "\n",
    "features[\"max_team_size\"].fillna(features[\"max_team_size\"].mean(), inplace=True)\n",
    "features[\"min_team_size\"].fillna(features[\"min_team_size\"].mean(), inplace=True)"
   ]
  },
  {
   "cell_type": "code",
   "execution_count": 52,
   "metadata": {},
   "outputs": [
    {
     "data": {
      "text/plain": [
       "258138"
      ]
     },
     "execution_count": 52,
     "metadata": {},
     "output_type": "execute_result"
    }
   ],
   "source": [
    "features[\"industry\"].isna().sum()"
   ]
  },
  {
   "cell_type": "code",
   "execution_count": 43,
   "metadata": {},
   "outputs": [
    {
     "data": {
      "text/plain": [
       "0"
      ]
     },
     "execution_count": 43,
     "metadata": {},
     "output_type": "execute_result"
    }
   ],
   "source": [
    "features[\"min_team_size\"].isna().sum()"
   ]
  },
  {
   "cell_type": "code",
   "execution_count": 10,
   "metadata": {},
   "outputs": [
    {
     "data": {
      "text/plain": [
       "(716828, 33)"
      ]
     },
     "execution_count": 10,
     "metadata": {},
     "output_type": "execute_result"
    }
   ],
   "source": [
    "features.shape"
   ]
  },
  {
   "cell_type": "code",
   "execution_count": 47,
   "metadata": {},
   "outputs": [],
   "source": [
    "data = features.merge(target, left_index=True, right_index=True)"
   ]
  },
  {
   "cell_type": "code",
   "execution_count": 50,
   "metadata": {},
   "outputs": [],
   "source": [
    "data_1 = data[((~data[\"registered_users\"].isna()) & (~data[\"active_users\"].isna()))]"
   ]
  },
  {
   "cell_type": "code",
   "execution_count": 51,
   "metadata": {},
   "outputs": [
    {
     "data": {
      "text/plain": [
       "paying                           0\n",
       "collection_21_days               0\n",
       "max_team_size                    0\n",
       "min_team_size                    0\n",
       "team_size                   213175\n",
       "industry                    257470\n",
       "payment_currency              3581\n",
       "registered_users                 0\n",
       "number_of_admins                 0\n",
       "number_of_pending_users          0\n",
       "number_of_enabled_users          0\n",
       "active_users                     0\n",
       "active_days                      0\n",
       "total_events                     0\n",
       "column_events                    0\n",
       "board_events                     0\n",
       "num_of_boards                    0\n",
       "count_kind_columns               0\n",
       "content_events                   0\n",
       "group_events                     0\n",
       "invite_events                    0\n",
       "import_events                    0\n",
       "notification_events              0\n",
       "new_entry_events                 0\n",
       "payment_events                   0\n",
       "inbox_events                     0\n",
       "communicating_events             0\n",
       "non_communicating_events         0\n",
       "web_events                       0\n",
       "ios_events                       0\n",
       "android_events                   0\n",
       "desktop_app_events               0\n",
       "empty_events                     0\n",
       "lead_score                       0\n",
       "dtype: int64"
      ]
     },
     "execution_count": 51,
     "metadata": {},
     "output_type": "execute_result"
    }
   ],
   "source": [
    "data_1.isna().sum()"
   ]
  },
  {
   "cell_type": "code",
   "execution_count": null,
   "metadata": {},
   "outputs": [],
   "source": []
  },
  {
   "cell_type": "markdown",
   "metadata": {},
   "source": [
    "# Finished Features"
   ]
  },
  {
   "cell_type": "code",
   "execution_count": 54,
   "metadata": {},
   "outputs": [],
   "source": [
    "features = pd.read_csv(pather.features).set_index(\"account_id\")"
   ]
  },
  {
   "cell_type": "code",
   "execution_count": 55,
   "metadata": {},
   "outputs": [
    {
     "data": {
      "text/plain": [
       "paying                           0\n",
       "collection_21_days               0\n",
       "max_team_size                    0\n",
       "min_team_size                    0\n",
       "industry                    219495\n",
       "payment_currency              3574\n",
       "registered_users                 0\n",
       "number_of_admins                 0\n",
       "number_of_pending_users          0\n",
       "number_of_enabled_users          0\n",
       "active_users                     0\n",
       "active_days                      0\n",
       "total_events                     0\n",
       "column_events                    0\n",
       "board_events                     0\n",
       "num_of_boards                    0\n",
       "count_kind_columns               0\n",
       "content_events                   0\n",
       "group_events                     0\n",
       "invite_events                    0\n",
       "import_events                    0\n",
       "notification_events              0\n",
       "new_entry_events                 0\n",
       "payment_events                   0\n",
       "inbox_events                     0\n",
       "communicating_events             0\n",
       "non_communicating_events         0\n",
       "web_events                       0\n",
       "ios_events                       0\n",
       "android_events                   0\n",
       "desktop_app_events               0\n",
       "empty_events                     0\n",
       "dtype: int64"
      ]
     },
     "execution_count": 55,
     "metadata": {},
     "output_type": "execute_result"
    }
   ],
   "source": [
    "features.isna().sum()"
   ]
  }
 ],
 "metadata": {
  "kernelspec": {
   "display_name": "venv",
   "language": "python",
   "name": "python3"
  },
  "language_info": {
   "codemirror_mode": {
    "name": "ipython",
    "version": 3
   },
   "file_extension": ".py",
   "mimetype": "text/x-python",
   "name": "python",
   "nbconvert_exporter": "python",
   "pygments_lexer": "ipython3",
   "version": "3.9.6"
  },
  "orig_nbformat": 4
 },
 "nbformat": 4,
 "nbformat_minor": 2
}
