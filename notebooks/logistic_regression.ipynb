{
 "cells": [
  {
   "cell_type": "markdown",
   "metadata": {},
   "source": [
    "# Logistic Regression"
   ]
  },
  {
   "cell_type": "code",
   "execution_count": 27,
   "metadata": {},
   "outputs": [
    {
     "name": "stdout",
     "output_type": "stream",
     "text": [
      "The jupyter_black extension is already loaded. To reload it, use:\n",
      "  %reload_ext jupyter_black\n"
     ]
    }
   ],
   "source": [
    "import os\n",
    "import re\n",
    "\n",
    "project_path = re.findall(\n",
    "    pattern=r\".+monday-vip-consulting\",\n",
    "    string=os.path.abspath(os.getcwd()),\n",
    ")[0]\n",
    "os.chdir(os.path.join(project_path))\n",
    "%load_ext jupyter_black"
   ]
  },
  {
   "cell_type": "code",
   "execution_count": 28,
   "metadata": {},
   "outputs": [],
   "source": [
    "import pandas as pd\n",
    "from src.utils.pather import Pather\n",
    "import pandas as pd\n",
    "from sklearn.model_selection import train_test_split\n",
    "from sklearn.linear_model import LogisticRegression\n",
    "from sklearn.metrics import precision_score, recall_score, f1_score\n",
    "from sklearn import preprocessing"
   ]
  },
  {
   "cell_type": "code",
   "execution_count": 30,
   "metadata": {},
   "outputs": [],
   "source": [
    "pather = Pather()\n",
    "features = pd.read_csv(pather.features).set_index(\"account_id\")\n",
    "y = pd.read_csv(pather.target).set_index(\"account_id\")[\"lead_score\"].values\n",
    "\n",
    "use_categorical = False\n",
    "categorical_cols = [\"payment_currency\", \"industry\", \"country\"]\n",
    "features = features.drop(categorical_cols, axis=1)\n",
    "X = features.values"
   ]
  },
  {
   "cell_type": "code",
   "execution_count": 31,
   "metadata": {},
   "outputs": [
    {
     "data": {
      "text/plain": [
       "Index(['paying', 'collection_21_days', 'max_team_size', 'min_team_size',\n",
       "       'registered_users', 'number_of_admins', 'number_of_pending_users',\n",
       "       'number_of_enabled_users', 'active_users', 'active_days',\n",
       "       'total_events', 'column_events', 'board_events', 'num_of_boards',\n",
       "       'count_kind_columns', 'content_events', 'group_events', 'invite_events',\n",
       "       'import_events', 'notification_events', 'new_entry_events',\n",
       "       'payment_events', 'inbox_events', 'communicating_events',\n",
       "       'non_communicating_events', 'web_events', 'ios_events',\n",
       "       'android_events', 'desktop_app_events', 'empty_events'],\n",
       "      dtype='object')"
      ]
     },
     "execution_count": 31,
     "metadata": {},
     "output_type": "execute_result"
    }
   ],
   "source": [
    "features.columns"
   ]
  },
  {
   "cell_type": "code",
   "execution_count": 32,
   "metadata": {},
   "outputs": [],
   "source": [
    "scaler = preprocessing.StandardScaler().fit(X)\n",
    "X_scaled = scaler.transform(X)"
   ]
  },
  {
   "cell_type": "code",
   "execution_count": 33,
   "metadata": {},
   "outputs": [],
   "source": [
    "X_train, X_test, y_train, y_test = train_test_split(\n",
    "    X_scaled,\n",
    "    y,\n",
    "    test_size=0.2,\n",
    "    random_state=42,\n",
    "    stratify=y,\n",
    ")"
   ]
  },
  {
   "cell_type": "code",
   "execution_count": 35,
   "metadata": {},
   "outputs": [
    {
     "name": "stdout",
     "output_type": "stream",
     "text": [
      "Train f1 score: 0.1220118179367427\n",
      "Test f1 score: 0.12235075816879765\n",
      "Train precision score: 0.0680377689657414\n",
      "Test precision score: 0.06818549038616901\n",
      "Train recall score: 0.5902714134649277\n",
      "Test recall score: 0.5950366610265088\n"
     ]
    }
   ],
   "source": [
    "n_estimators = 10\n",
    "max_depth = 10\n",
    "\n",
    "model = LogisticRegression(\n",
    "    class_weight=\"balanced\",\n",
    "    max_iter=1000,\n",
    "    random_state=42,\n",
    ")\n",
    "\n",
    "model.fit(X_train, y_train)\n",
    "\n",
    "y_train_pred = model.predict(X_train)\n",
    "y_test_pred = model.predict(X_test)\n",
    "\n",
    "train_f1 = f1_score(y_train, y_train_pred)\n",
    "test_f1 = f1_score(y_test, y_test_pred)\n",
    "print(f\"Train f1 score: {train_f1}\")\n",
    "print(f\"Test f1 score: {test_f1}\")\n",
    "\n",
    "train_precision = precision_score(y_train, y_train_pred)\n",
    "test_precision = precision_score(y_test, y_test_pred)\n",
    "print(f\"Train precision score: {train_precision}\")\n",
    "print(f\"Test precision score: {test_precision}\")\n",
    "\n",
    "train_recall = recall_score(y_train, y_train_pred)\n",
    "test_recall = recall_score(y_test, y_test_pred)\n",
    "print(f\"Train recall score: {train_recall}\")\n",
    "print(f\"Test recall score: {test_recall}\")"
   ]
  },
  {
   "cell_type": "code",
   "execution_count": null,
   "metadata": {},
   "outputs": [],
   "source": []
  }
 ],
 "metadata": {
  "kernelspec": {
   "display_name": "venv",
   "language": "python",
   "name": "python3"
  },
  "language_info": {
   "codemirror_mode": {
    "name": "ipython",
    "version": 3
   },
   "file_extension": ".py",
   "mimetype": "text/x-python",
   "name": "python",
   "nbconvert_exporter": "python",
   "pygments_lexer": "ipython3",
   "version": "3.9.6"
  },
  "orig_nbformat": 4
 },
 "nbformat": 4,
 "nbformat_minor": 2
}
